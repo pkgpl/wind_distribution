{
 "cells": [
  {
   "cell_type": "code",
   "execution_count": 1,
   "id": "varied-terrace",
   "metadata": {},
   "outputs": [],
   "source": [
    "%matplotlib inline\n",
    "import matplotlib.pyplot as plt\n",
    "import numpy as np"
   ]
  },
  {
   "cell_type": "code",
   "execution_count": 2,
   "id": "italian-cambodia",
   "metadata": {},
   "outputs": [],
   "source": [
    "import pandas as pd"
   ]
  },
  {
   "cell_type": "code",
   "execution_count": 3,
   "id": "closed-distribution",
   "metadata": {},
   "outputs": [],
   "source": [
    "data = pd.read_excel(\"../data/MtTomData.xls\")"
   ]
  },
  {
   "cell_type": "code",
   "execution_count": 4,
   "id": "enabling-utility",
   "metadata": {},
   "outputs": [
    {
     "data": {
      "text/plain": [
       "<bound method DataFrame.info of       sample        Hour       m/s        mph\n",
       "0          1    0.166667  1.609340   3.599991\n",
       "1          2    0.333333  1.162300   2.599991\n",
       "2          3    0.500000  1.162300   2.599991\n",
       "3          4    0.666667  0.849376   1.900000\n",
       "4          5    0.833333  1.162300   2.599991\n",
       "...      ...         ...       ...        ...\n",
       "4459    4460  743.333333  9.030210  20.200004\n",
       "4460    4461  743.500000  8.761980  19.599991\n",
       "4461    4462  743.666667  8.136130  18.200004\n",
       "4462    4463  743.833333  8.091420  18.099991\n",
       "4463    4464  744.000000  8.091420  18.099991\n",
       "\n",
       "[4464 rows x 4 columns]>"
      ]
     },
     "execution_count": 4,
     "metadata": {},
     "output_type": "execute_result"
    }
   ],
   "source": [
    "data.info"
   ]
  },
  {
   "cell_type": "code",
   "execution_count": 5,
   "id": "painful-maldives",
   "metadata": {},
   "outputs": [
    {
     "data": {
      "text/plain": [
       "Index(['sample', 'Hour', 'm/s', 'mph'], dtype='object')"
      ]
     },
     "execution_count": 5,
     "metadata": {},
     "output_type": "execute_result"
    }
   ],
   "source": [
    "data.keys()"
   ]
  },
  {
   "cell_type": "code",
   "execution_count": 6,
   "id": "offshore-japanese",
   "metadata": {},
   "outputs": [
    {
     "data": {
      "text/plain": [
       "4464"
      ]
     },
     "execution_count": 6,
     "metadata": {},
     "output_type": "execute_result"
    }
   ],
   "source": [
    "nsamples = len(data)\n",
    "nsamples"
   ]
  },
  {
   "cell_type": "markdown",
   "id": "sitting-command",
   "metadata": {},
   "source": [
    "# 1. Average wind speed, standard deviation"
   ]
  },
  {
   "cell_type": "code",
   "execution_count": 7,
   "id": "prompt-laser",
   "metadata": {},
   "outputs": [
    {
     "data": {
      "text/html": [
       "<div>\n",
       "<style scoped>\n",
       "    .dataframe tbody tr th:only-of-type {\n",
       "        vertical-align: middle;\n",
       "    }\n",
       "\n",
       "    .dataframe tbody tr th {\n",
       "        vertical-align: top;\n",
       "    }\n",
       "\n",
       "    .dataframe thead th {\n",
       "        text-align: right;\n",
       "    }\n",
       "</style>\n",
       "<table border=\"1\" class=\"dataframe\">\n",
       "  <thead>\n",
       "    <tr style=\"text-align: right;\">\n",
       "      <th></th>\n",
       "      <th>sample</th>\n",
       "      <th>Hour</th>\n",
       "      <th>m/s</th>\n",
       "      <th>mph</th>\n",
       "    </tr>\n",
       "  </thead>\n",
       "  <tbody>\n",
       "    <tr>\n",
       "      <th>count</th>\n",
       "      <td>4464.00000</td>\n",
       "      <td>4464.000000</td>\n",
       "      <td>4464.000000</td>\n",
       "      <td>4464.000000</td>\n",
       "    </tr>\n",
       "    <tr>\n",
       "      <th>mean</th>\n",
       "      <td>2232.50000</td>\n",
       "      <td>372.083333</td>\n",
       "      <td>4.649306</td>\n",
       "      <td>10.400202</td>\n",
       "    </tr>\n",
       "    <tr>\n",
       "      <th>std</th>\n",
       "      <td>1288.79013</td>\n",
       "      <td>214.798355</td>\n",
       "      <td>2.437550</td>\n",
       "      <td>5.452644</td>\n",
       "    </tr>\n",
       "    <tr>\n",
       "      <th>min</th>\n",
       "      <td>1.00000</td>\n",
       "      <td>0.166667</td>\n",
       "      <td>0.000000</td>\n",
       "      <td>0.000000</td>\n",
       "    </tr>\n",
       "    <tr>\n",
       "      <th>25%</th>\n",
       "      <td>1116.75000</td>\n",
       "      <td>186.125000</td>\n",
       "      <td>2.905760</td>\n",
       "      <td>6.500000</td>\n",
       "    </tr>\n",
       "    <tr>\n",
       "      <th>50%</th>\n",
       "      <td>2232.50000</td>\n",
       "      <td>372.083333</td>\n",
       "      <td>4.559810</td>\n",
       "      <td>10.200004</td>\n",
       "    </tr>\n",
       "    <tr>\n",
       "      <th>75%</th>\n",
       "      <td>3348.25000</td>\n",
       "      <td>558.041667</td>\n",
       "      <td>6.169150</td>\n",
       "      <td>13.799996</td>\n",
       "    </tr>\n",
       "    <tr>\n",
       "      <th>max</th>\n",
       "      <td>4464.00000</td>\n",
       "      <td>744.000000</td>\n",
       "      <td>15.646400</td>\n",
       "      <td>35.000000</td>\n",
       "    </tr>\n",
       "  </tbody>\n",
       "</table>\n",
       "</div>"
      ],
      "text/plain": [
       "           sample         Hour          m/s          mph\n",
       "count  4464.00000  4464.000000  4464.000000  4464.000000\n",
       "mean   2232.50000   372.083333     4.649306    10.400202\n",
       "std    1288.79013   214.798355     2.437550     5.452644\n",
       "min       1.00000     0.166667     0.000000     0.000000\n",
       "25%    1116.75000   186.125000     2.905760     6.500000\n",
       "50%    2232.50000   372.083333     4.559810    10.200004\n",
       "75%    3348.25000   558.041667     6.169150    13.799996\n",
       "max    4464.00000   744.000000    15.646400    35.000000"
      ]
     },
     "execution_count": 7,
     "metadata": {},
     "output_type": "execute_result"
    }
   ],
   "source": [
    "data.describe()"
   ]
  },
  {
   "cell_type": "code",
   "execution_count": 8,
   "id": "coated-comfort",
   "metadata": {},
   "outputs": [
    {
     "data": {
      "text/plain": [
       "10.400201516690913"
      ]
     },
     "execution_count": 8,
     "metadata": {},
     "output_type": "execute_result"
    }
   ],
   "source": [
    "average = data['mph'].mean()\n",
    "average"
   ]
  },
  {
   "cell_type": "code",
   "execution_count": 9,
   "id": "distant-business",
   "metadata": {},
   "outputs": [
    {
     "data": {
      "text/plain": [
       "5.45264406904914"
      ]
     },
     "execution_count": 9,
     "metadata": {},
     "output_type": "execute_result"
    }
   ],
   "source": [
    "std = data['mph'].std()\n",
    "std"
   ]
  },
  {
   "cell_type": "markdown",
   "id": "modified-tractor",
   "metadata": {},
   "source": [
    "# 2. Histogram"
   ]
  },
  {
   "cell_type": "code",
   "execution_count": 10,
   "id": "included-hormone",
   "metadata": {},
   "outputs": [
    {
     "data": {
      "image/png": "[encoded data removed]",
      "text/plain": [
       "<Figure size 432x288 with 1 Axes>"
      ]
     },
     "metadata": {
      "needs_background": "light"
     },
     "output_type": "display_data"
    }
   ],
   "source": [
    "nbins = 35\n",
    "plt.hist(data[\"mph\"], bins=nbins, density=True)\n",
    "plt.xlabel(\"Velocity (mph)\")\n",
    "plt.ylabel(\"Frequency\")\n",
    "plt.grid()"
   ]
  },
  {
   "cell_type": "code",
   "execution_count": 11,
   "id": "canadian-religion",
   "metadata": {},
   "outputs": [],
   "source": [
    "frequency, bins = np.histogram(data[\"mph\"], bins=nbins)"
   ]
  },
  {
   "cell_type": "code",
   "execution_count": 12,
   "id": "standing-phoenix",
   "metadata": {},
   "outputs": [
    {
     "data": {
      "text/plain": [
       "array([ 0.,  1.,  2.,  3.,  4.,  5.,  6.,  7.,  8.,  9., 10., 11., 12.,\n",
       "       13., 14., 15., 16., 17., 18., 19., 20., 21., 22., 23., 24., 25.,\n",
       "       26., 27., 28., 29., 30., 31., 32., 33., 34., 35.])"
      ]
     },
     "execution_count": 12,
     "metadata": {},
     "output_type": "execute_result"
    }
   ],
   "source": [
    "bins"
   ]
  },
  {
   "cell_type": "code",
   "execution_count": 13,
   "id": "thermal-coordinate",
   "metadata": {},
   "outputs": [
    {
     "data": {
      "text/plain": [
       "array([162, 116, 116, 169, 204, 196, 271, 271, 284, 349, 330, 347, 306,\n",
       "       258, 182, 170, 163, 144, 134,  78,  93,  42,  30,  12,   9,   4,\n",
       "         8,   3,   2,   2,   1,   1,   4,   2,   1])"
      ]
     },
     "execution_count": 13,
     "metadata": {},
     "output_type": "execute_result"
    }
   ],
   "source": [
    "frequency"
   ]
  },
  {
   "cell_type": "code",
   "execution_count": 14,
   "id": "interesting-joining",
   "metadata": {},
   "outputs": [],
   "source": [
    "vel = (bins[:-1] + bins[1:])/2"
   ]
  },
  {
   "cell_type": "code",
   "execution_count": 15,
   "id": "monthly-breakdown",
   "metadata": {},
   "outputs": [
    {
     "data": {
      "image/png": "[encoded data removed]",
      "text/plain": [
       "<Figure size 432x288 with 1 Axes>"
      ]
     },
     "metadata": {
      "needs_background": "light"
     },
     "output_type": "display_data"
    }
   ],
   "source": [
    "plt.bar(vel, frequency/nsamples, width=1.0)\n",
    "plt.xlabel(\"Velocity (mph)\")\n",
    "plt.ylabel(\"Density\")\n",
    "plt.grid()"
   ]
  },
  {
   "cell_type": "markdown",
   "id": "exterior-youth",
   "metadata": {},
   "source": [
    "# 3. Velocity duration curve"
   ]
  },
  {
   "cell_type": "code",
   "execution_count": 16,
   "id": "sustained-voltage",
   "metadata": {},
   "outputs": [
    {
     "data": {
      "text/plain": [
       "744.0"
      ]
     },
     "execution_count": 16,
     "metadata": {},
     "output_type": "execute_result"
    }
   ],
   "source": [
    "hours = nsamples / 6\n",
    "hours"
   ]
  },
  {
   "cell_type": "code",
   "execution_count": 17,
   "id": "informal-museum",
   "metadata": {},
   "outputs": [
    {
     "data": {
      "text/plain": [
       "array([27.        , 19.33333333, 19.33333333, 28.16666667, 34.        ,\n",
       "       32.66666667, 45.16666667, 45.16666667, 47.33333333, 58.16666667,\n",
       "       55.        , 57.83333333, 51.        , 43.        , 30.33333333,\n",
       "       28.33333333, 27.16666667, 24.        , 22.33333333, 13.        ,\n",
       "       15.5       ,  7.        ,  5.        ,  2.        ,  1.5       ,\n",
       "        0.66666667,  1.33333333,  0.5       ,  0.33333333,  0.33333333,\n",
       "        0.16666667,  0.16666667,  0.66666667,  0.33333333,  0.16666667])"
      ]
     },
     "execution_count": 17,
     "metadata": {},
     "output_type": "execute_result"
    }
   ],
   "source": [
    "freq_hours = frequency / 6\n",
    "freq_hours"
   ]
  },
  {
   "cell_type": "code",
   "execution_count": 18,
   "id": "collective-elder",
   "metadata": {},
   "outputs": [
    {
     "data": {
      "text/plain": [
       "array([1.66666667e-01, 5.00000000e-01, 1.16666667e+00, 1.33333333e+00,\n",
       "       1.50000000e+00, 1.83333333e+00, 2.16666667e+00, 2.66666667e+00,\n",
       "       4.00000000e+00, 4.66666667e+00, 6.16666667e+00, 8.16666667e+00,\n",
       "       1.31666667e+01, 2.01666667e+01, 3.56666667e+01, 4.86666667e+01,\n",
       "       7.10000000e+01, 9.50000000e+01, 1.22166667e+02, 1.50500000e+02,\n",
       "       1.80833333e+02, 2.23833333e+02, 2.74833333e+02, 3.32666667e+02,\n",
       "       3.87666667e+02, 4.45833333e+02, 4.93166667e+02, 5.38333333e+02,\n",
       "       5.83500000e+02, 6.16166667e+02, 6.50166667e+02, 6.78333333e+02,\n",
       "       6.97666667e+02, 7.17000000e+02, 7.44000000e+02])"
      ]
     },
     "execution_count": 18,
     "metadata": {},
     "output_type": "execute_result"
    }
   ],
   "source": [
    "hours_cumsum = freq_hours[::-1].cumsum()\n",
    "hours_cumsum"
   ]
  },
  {
   "cell_type": "code",
   "execution_count": 19,
   "id": "adjustable-church",
   "metadata": {},
   "outputs": [
    {
     "data": {
      "image/png": "[encoded data removed]",
      "text/plain": [
       "<Figure size 432x288 with 1 Axes>"
      ]
     },
     "metadata": {
      "needs_background": "light"
     },
     "output_type": "display_data"
    }
   ],
   "source": [
    "plt.plot(hours_cumsum,vel[::-1])\n",
    "plt.title(\"Velocity duration curve\")\n",
    "plt.xlabel(\"Hours\")\n",
    "plt.ylabel(\"Velocity (mph)\")\n",
    "plt.grid()"
   ]
  },
  {
   "cell_type": "markdown",
   "id": "breathing-tulsa",
   "metadata": {},
   "source": [
    "# 4. Power duration curve\n",
    "\n",
    "## Power (kW) Velocity range (mph)\n",
    "\n"
   ]
  },
  {
   "cell_type": "code",
   "execution_count": 20,
   "id": "dramatic-drain",
   "metadata": {},
   "outputs": [],
   "source": [
    "def power(vel):\n",
    "    power = np.zeros_like(vel)\n",
    "    idx = (6. < vel) * (vel <= 25.)\n",
    "    power[idx] = vel[idx]**3/625\n",
    "    idx = (25. < vel) * (vel <= 50.)\n",
    "    power[idx] = 25.\n",
    "    return power"
   ]
  },
  {
   "cell_type": "code",
   "execution_count": 21,
   "id": "fabulous-mechanism",
   "metadata": {},
   "outputs": [
    {
     "data": {
      "image/png": "[encoded data removed]",
      "text/plain": [
       "<Figure size 432x288 with 1 Axes>"
      ]
     },
     "metadata": {
      "needs_background": "light"
     },
     "output_type": "display_data"
    }
   ],
   "source": [
    "plt.plot(hours_cumsum,power(vel[::-1]))\n",
    "plt.title(\"Power duration curve\")\n",
    "plt.xlabel(\"Hours\")\n",
    "plt.ylabel(\"Power (kW)\")\n",
    "plt.grid()"
   ]
  },
  {
   "cell_type": "markdown",
   "id": "widespread-burke",
   "metadata": {},
   "source": [
    "# 5. Energy"
   ]
  },
  {
   "cell_type": "code",
   "execution_count": 22,
   "id": "productive-cancellation",
   "metadata": {},
   "outputs": [],
   "source": [
    "def energy(hour, power):\n",
    "    return np.sum(hour * power)"
   ]
  },
  {
   "cell_type": "code",
   "execution_count": 23,
   "id": "hearing-transition",
   "metadata": {},
   "outputs": [
    {
     "data": {
      "text/plain": [
       "2455.781166666665"
      ]
     },
     "execution_count": 23,
     "metadata": {},
     "output_type": "execute_result"
    }
   ],
   "source": [
    "energy(freq_hours, power(vel))"
   ]
  },
  {
   "cell_type": "markdown",
   "id": "subject-creativity",
   "metadata": {},
   "source": [
    "# 6. Weibull distribution, Rayleigh distribution"
   ]
  },
  {
   "cell_type": "code",
   "execution_count": 24,
   "id": "brown-motel",
   "metadata": {},
   "outputs": [],
   "source": [
    "from scipy.special import gamma"
   ]
  },
  {
   "cell_type": "code",
   "execution_count": 25,
   "id": "virgin-montana",
   "metadata": {},
   "outputs": [
    {
     "data": {
      "text/plain": [
       "(2.008488611305931, 11.73625116337117)"
      ]
     },
     "execution_count": 25,
     "metadata": {},
     "output_type": "execute_result"
    }
   ],
   "source": [
    "k = (std/average)**(-1.08)\n",
    "c = average/gamma(1+1/k)\n",
    "k, c"
   ]
  },
  {
   "cell_type": "code",
   "execution_count": 26,
   "id": "organizational-princess",
   "metadata": {},
   "outputs": [],
   "source": [
    "def Weibull(k,c,U):\n",
    "    return (k/c)*(U/c)**(k-1) * np.exp(-(U/c)**k)\n",
    "\n",
    "def Rayleigh(avg, U):\n",
    "    return np.pi/2 *(U/avg**2) * np.exp(-np.pi/4 * (U/avg)**2)"
   ]
  },
  {
   "cell_type": "code",
   "execution_count": 27,
   "id": "proved-ability",
   "metadata": {},
   "outputs": [],
   "source": [
    "weibull_dist = Weibull(k,c,vel)\n",
    "rayleigh_dist = Rayleigh(average,vel)"
   ]
  },
  {
   "cell_type": "code",
   "execution_count": 28,
   "id": "domestic-irish",
   "metadata": {},
   "outputs": [
    {
     "data": {
      "image/png": "[encoded data removed]",
      "text/plain": [
       "<Figure size 432x288 with 1 Axes>"
      ]
     },
     "metadata": {
      "needs_background": "light"
     },
     "output_type": "display_data"
    }
   ],
   "source": [
    "plt.bar(vel, frequency/nsamples, width=1.0, label='Data')\n",
    "plt.plot(vel, weibull_dist, 'r-', label='Weibull')\n",
    "plt.plot(vel, rayleigh_dist, 'g*--', label='Rayleigh')\n",
    "plt.xlabel('Velocity (mph)')\n",
    "plt.ylabel(\"Density\")\n",
    "plt.legend()\n",
    "plt.grid()"
   ]
  },
  {
   "cell_type": "markdown",
   "id": "direct-squad",
   "metadata": {},
   "source": [
    "# 7. Velocity duration curve, Power duration curve"
   ]
  },
  {
   "cell_type": "code",
   "execution_count": 29,
   "id": "celtic-twelve",
   "metadata": {},
   "outputs": [],
   "source": [
    "weibull_cumsum = (weibull_dist[::-1]*hours).cumsum()\n",
    "rayleigh_cumsum = (rayleigh_dist[::-1]*hours).cumsum()"
   ]
  },
  {
   "cell_type": "code",
   "execution_count": 30,
   "id": "tropical-termination",
   "metadata": {},
   "outputs": [
    {
     "data": {
      "image/png": "[encoded data removed]",
      "text/plain": [
       "<Figure size 432x288 with 1 Axes>"
      ]
     },
     "metadata": {
      "needs_background": "light"
     },
     "output_type": "display_data"
    }
   ],
   "source": [
    "plt.plot(hours_cumsum,vel[::-1], 'b-', label='Data')\n",
    "plt.plot(weibull_cumsum, vel[::-1], 'r-', label='Weibull')\n",
    "plt.plot(rayleigh_cumsum, vel[::-1], 'g*--', label='Rayleigh')\n",
    "plt.title(\"Velocity duration curve\")\n",
    "plt.xlabel(\"Hours\")\n",
    "plt.ylabel(\"Velocity (mph)\")\n",
    "plt.legend()\n",
    "plt.grid()"
   ]
  },
  {
   "cell_type": "code",
   "execution_count": 31,
   "id": "prerequisite-substitute",
   "metadata": {},
   "outputs": [
    {
     "data": {
      "image/png": "[encoded data removed]",
      "text/plain": [
       "<Figure size 432x288 with 1 Axes>"
      ]
     },
     "metadata": {
      "needs_background": "light"
     },
     "output_type": "display_data"
    }
   ],
   "source": [
    "plt.plot(hours_cumsum,power(vel[::-1]), 'b-', label='Data')\n",
    "plt.plot(weibull_cumsum, power(vel[::-1]), 'r-', label='Weibull')\n",
    "plt.plot(rayleigh_cumsum, power(vel[::-1]), 'g*--', label='Rayleigh')\n",
    "plt.title(\"Power duration curve\")\n",
    "plt.xlabel(\"Hours\")\n",
    "plt.ylabel(\"Power (kW)\")\n",
    "plt.legend()\n",
    "plt.grid()"
   ]
  },
  {
   "cell_type": "markdown",
   "id": "herbal-convergence",
   "metadata": {},
   "source": [
    "# 8. Energy"
   ]
  },
  {
   "cell_type": "code",
   "execution_count": 32,
   "id": "voluntary-highland",
   "metadata": {},
   "outputs": [
    {
     "data": {
      "text/plain": [
       "2452.7292384145353"
      ]
     },
     "execution_count": 32,
     "metadata": {},
     "output_type": "execute_result"
    }
   ],
   "source": [
    "energy(weibull_dist*hours, power(vel))"
   ]
  },
  {
   "cell_type": "code",
   "execution_count": 33,
   "id": "nominated-arrow",
   "metadata": {},
   "outputs": [
    {
     "data": {
      "text/plain": [
       "2460.359116588941"
      ]
     },
     "execution_count": 33,
     "metadata": {},
     "output_type": "execute_result"
    }
   ],
   "source": [
    "energy(rayleigh_dist*hours, power(vel))"
   ]
  },
  {
   "cell_type": "code",
   "execution_count": null,
   "id": "knowing-identification",
   "metadata": {},
   "outputs": [],
   "source": []
  }
 ],
 "metadata": {
  "kernelspec": {
   "display_name": "Python 3",
   "language": "python",
   "name": "python3"
  },
  "language_info": {
   "codemirror_mode": {
    "name": "ipython",
    "version": 3
   },
   "file_extension": ".py",
   "mimetype": "text/x-python",
   "name": "python",
   "nbconvert_exporter": "python",
   "pygments_lexer": "ipython3",
   "version": "3.7.5"
  }
 },
 "nbformat": 4,
 "nbformat_minor": 5
}
